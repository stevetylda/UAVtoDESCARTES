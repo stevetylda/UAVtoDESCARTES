{
 "cells": [
  {
   "cell_type": "code",
   "execution_count": null,
   "id": "ecbdf0b2",
   "metadata": {},
   "outputs": [],
   "source": [
    "cd imagery"
   ]
  },
  {
   "cell_type": "code",
   "execution_count": 2,
   "id": "8833e20d",
   "metadata": {},
   "outputs": [],
   "source": [
    "#Uploading UAV Imagery to Descartes\n",
    "#Step 1: Install descarteslabs into your environment\n",
    "#Step 2: In a terminal, within your environment, authenticate using: \"descarteslabs auth login\". This will prompt you to log in and provide a token. \n",
    "#Step 3: Run the below: \n",
    "\n",
    "#Import Libraries\n",
    "import descarteslabs as dl\n",
    "import descarteslabs.catalog\n",
    "from descarteslabs.catalog import Band, DataType, Product, Resolution, ResolutionUnit, SpectralBand, Image\n",
    "\n",
    "import rasterio\n",
    "import osr\n",
    "import gdal\n",
    "\n",
    "import numpy as np"
   ]
  },
  {
   "cell_type": "code",
   "execution_count": 7,
   "id": "7e3d5612",
   "metadata": {},
   "outputs": [
    {
     "name": "stdout",
     "output_type": "stream",
     "text": [
      "{'driver': 'GTiff', 'dtype': 'float32', 'nodata': -10000.0, 'width': 5874, 'height': 4557, 'count': 5, 'crs': CRS.from_epsg(32615), 'transform': Affine(0.027938946951286157, 0.0, 751149.530788213,\n",
      "       0.0, -0.027938946951286157, 4065347.6211846396)}\n"
     ]
    }
   ],
   "source": [
    "#Open Imagery & Grab Data\n",
    "filename = \"20-ZEAMX-US301-MO03-MOAR_20200807_6x_UAV.tif\"\n",
    "\n",
    "with rasterio.open('20-ZEAMX-US301-MO03-MOAR_20200807_6x_UAV.tif', 'r') as ds:\n",
    "    arr = ds.read()  # read all raster values\n",
    "    meta = ds.meta\n",
    "    trans = ds.transform\n",
    "    print(ds.meta)\n",
    "    \n",
    "g = gdal.Open (filename)\n",
    "geo_transform = g.GetGeoTransform ()\n",
    "geom = g.GetProjection()\n",
    "\n",
    "pixelSizeX = geo_transform[1]\n",
    "pixelSizeY =-geo_transform[5]\n",
    "\n",
    "proj = osr.SpatialReference(wkt = geom)\n",
    "EPSG = proj.GetAttrValue('AUTHORITY', 1)\n",
    "\n",
    "info = gdal.Info(filename, format = \"json\")\n",
    "geometry = {\"type\": \"Polygon\",\"coordinates\": info['wgs84Extent']['coordinates']}"
   ]
  },
  {
   "cell_type": "code",
   "execution_count": 3,
   "id": "2838485c",
   "metadata": {},
   "outputs": [],
   "source": [
    "#Make New Product\n",
    "new_product = Product(id=\"test-uav-upload-3\", name=\"Test UAV Upload 3\", description=\"test_moar_20200807\")"
   ]
  },
  {
   "cell_type": "code",
   "execution_count": 4,
   "id": "4d492501",
   "metadata": {},
   "outputs": [],
   "source": [
    "#Save Product\n",
    "new_product.save() "
   ]
  },
  {
   "cell_type": "code",
   "execution_count": 5,
   "id": "cc366aeb",
   "metadata": {},
   "outputs": [
    {
     "data": {
      "text/plain": [
       "<DocumentState.SAVED: 'saved'>"
      ]
     },
     "execution_count": 5,
     "metadata": {},
     "output_type": "execute_result"
    }
   ],
   "source": [
    "#Check If Save Was Successful\n",
    "new_product.state"
   ]
  },
  {
   "cell_type": "code",
   "execution_count": 9,
   "id": "d423aed6",
   "metadata": {},
   "outputs": [],
   "source": [
    "nodatavalue = -10000\n",
    "\n",
    "#Create Bands\n",
    "band = SpectralBand(name=\"red\", product=new_product)\n",
    "band.data_type = DataType.FLOAT32\n",
    "band.data_range = (np.amin(arr[arr != nodatavalue][0]), np.max(arr[0]))\n",
    "band.display_range = (np.amin(arr[arr != nodatavalue][0]), np.max(arr[0]))\n",
    "band.resolution = Resolution(unit=ResolutionUnit.METERS, value = geo_transform[1])\n",
    "band.band_index = 1\n",
    "band.nodata= -10000\n",
    "band.save()\n",
    "\n",
    "band_2 = SpectralBand(name=\"green\", product=new_product)\n",
    "band_2.data_type = DataType.FLOAT32\n",
    "band_2.data_range = (np.amin(arr[arr != nodatavalue][1]), np.max(arr[1]))\n",
    "band_2.display_range = (np.amin(arr[arr != nodatavalue][1]), np.max(arr[1]))\n",
    "band_2.resolution = Resolution(unit=ResolutionUnit.METERS, value = geo_transform[1])\n",
    "band_2.band_index = 2\n",
    "band_2.nodata = -10000\n",
    "band_2.save()\n",
    "\n",
    "band_3 = SpectralBand(name=\"blue\", product=new_product)\n",
    "band_3.data_type = DataType.FLOAT32\n",
    "band_3.data_range = (np.amin(arr[arr != nodatavalue][2]), np.max(arr[2]))\n",
    "band_3.display_range = (np.amin(arr[arr != nodatavalue][2]), np.max(arr[2]))\n",
    "band_3.resolution = Resolution(unit=ResolutionUnit.METERS, value = geo_transform[1])\n",
    "band_3.band_index = 3\n",
    "band_3.nodata = -10000\n",
    "band_3.save()\n",
    "\n",
    "band_4 = SpectralBand(name=\"nir\", product=new_product)\n",
    "band_4.data_type = DataType.FLOAT32\n",
    "band_4.data_range = (np.amin(arr[arr != nodatavalue][3]), np.max(arr[3]))\n",
    "band_4.display_range = (np.amin(arr[arr != nodatavalue][3]), np.max(arr[3]))\n",
    "band_4.resolution = Resolution(unit=ResolutionUnit.METERS, value = geo_transform[1])\n",
    "band_4.band_index = 4\n",
    "band_4.nodata = -10000\n",
    "band_4.save()\n",
    "\n",
    "band_5 = SpectralBand(name=\"rededge\", product=new_product)\n",
    "band_5.data_type = DataType.FLOAT32\n",
    "band_5.data_range = (np.amin(arr[arr != nodatavalue][4]), np.max(arr[4]))\n",
    "band_5.display_range = (np.amin(arr[arr != nodatavalue][4]), np.max(arr[4]))\n",
    "band_5.resolution = Resolution(unit=ResolutionUnit.METERS, value = geo_transform[1])\n",
    "band_5.band_index = 5\n",
    "band_5.nodata = -10000\n",
    "band_5.save()"
   ]
  },
  {
   "cell_type": "code",
   "execution_count": 16,
   "id": "ed7dabea",
   "metadata": {},
   "outputs": [],
   "source": [
    "info = gdal.Info(filename, format = \"json\")\n",
    "geometry = {\"type\": \"Polygon\",\"coordinates\": info['wgs84Extent']['coordinates']}"
   ]
  },
  {
   "cell_type": "code",
   "execution_count": 17,
   "id": "03f24359",
   "metadata": {},
   "outputs": [],
   "source": [
    "#Set Image Properties\n",
    "image = Image(product = new_product, name = \"test_image_moar_20200807\") \n",
    "image.acquired = \"2020-08-07\"\n",
    "image.acquired_end = \"2020-08-07\"\n",
    "image.geotrans = geo_transform\n",
    "image.projection = EPSG\n",
    "image.geometry = geometry"
   ]
  },
  {
   "cell_type": "code",
   "execution_count": 18,
   "id": "d09c43c1",
   "metadata": {},
   "outputs": [
    {
     "data": {
      "text/plain": [
       "<DocumentState.UNSAVED: 'unsaved'>"
      ]
     },
     "execution_count": 18,
     "metadata": {},
     "output_type": "execute_result"
    }
   ],
   "source": [
    "image.state"
   ]
  },
  {
   "cell_type": "code",
   "execution_count": 14,
   "id": "df963025",
   "metadata": {},
   "outputs": [],
   "source": [
    "#This should work?\n",
    "#Upload Image\n",
    "upload = image.upload(filename)\n",
    "#upload.wait_for_completion()\n",
    "#upload.status"
   ]
  },
  {
   "cell_type": "code",
   "execution_count": 15,
   "id": "63468ec3",
   "metadata": {},
   "outputs": [
    {
     "data": {
      "text/plain": [
       "'pending'"
      ]
     },
     "execution_count": 15,
     "metadata": {},
     "output_type": "execute_result"
    }
   ],
   "source": [
    "upload.status"
   ]
  },
  {
   "cell_type": "code",
   "execution_count": 343,
   "id": "1da77d51",
   "metadata": {},
   "outputs": [],
   "source": [
    "#image.files = [File(filename)]\n",
    "image.x_pixels = int(pixelSizeX)\n",
    "image.y_pixels = int(pixelSizeY) \n",
    "image.storage_state = StorageState.AVAILABLE\n",
    "#image.save()"
   ]
  },
  {
   "cell_type": "code",
   "execution_count": null,
   "id": "4443b593",
   "metadata": {},
   "outputs": [],
   "source": []
  },
  {
   "cell_type": "code",
   "execution_count": null,
   "id": "223bc6e5",
   "metadata": {
    "scrolled": true
   },
   "outputs": [],
   "source": [
    "#This should work for an array\n",
    "upload = image.upload_ndarray(arr, raster_meta = meta)"
   ]
  },
  {
   "cell_type": "code",
   "execution_count": 380,
   "id": "a3775fe0",
   "metadata": {},
   "outputs": [
    {
     "data": {
      "text/plain": [
       "'pending'"
      ]
     },
     "execution_count": 380,
     "metadata": {},
     "output_type": "execute_result"
    }
   ],
   "source": [
    "upload.status"
   ]
  },
  {
   "cell_type": "code",
   "execution_count": 379,
   "id": "38c5f8fd",
   "metadata": {},
   "outputs": [
    {
     "data": {
      "text/plain": [
       "<bound method ImageUpload.reload of ImageUpload: \n",
       "  id: 55975826\n",
       "  image: pivotbio:test-uav-upload-2:test_image_moar_20200807\n",
       "  created: Thu Jul  8 15:26:07 2021>"
      ]
     },
     "execution_count": 379,
     "metadata": {},
     "output_type": "execute_result"
    }
   ],
   "source": [
    "upload.reload"
   ]
  },
  {
   "cell_type": "code",
   "execution_count": null,
   "id": "77537c0e",
   "metadata": {},
   "outputs": [],
   "source": []
  },
  {
   "cell_type": "code",
   "execution_count": null,
   "id": "7545005f",
   "metadata": {},
   "outputs": [],
   "source": []
  },
  {
   "cell_type": "code",
   "execution_count": null,
   "id": "749d0f81",
   "metadata": {},
   "outputs": [],
   "source": []
  },
  {
   "cell_type": "markdown",
   "id": "7e19be1f",
   "metadata": {},
   "source": [
    "# Waht about the links? "
   ]
  },
  {
   "cell_type": "code",
   "execution_count": 344,
   "id": "d598e65c",
   "metadata": {},
   "outputs": [
    {
     "name": "stdout",
     "output_type": "stream",
     "text": [
      "{'driver': 'GTiff', 'dtype': 'uint16', 'nodata': None, 'width': 7621, 'height': 7791, 'count': 1, 'crs': CRS.from_epsg(32645), 'transform': Affine(30.0, 0.0, 381885.0,\n",
      "       0.0, -30.0, 2512815.0)}\n"
     ]
    }
   ],
   "source": [
    "#Open Imagery & Grab Data\n",
    "filename = \"LC81390452014295LGN00_B1.tiff\"\n",
    "\n",
    "with rasterio.open(filename, 'r') as ds:\n",
    "    arr = ds.read()  # read all raster values\n",
    "    meta = ds.meta\n",
    "    trans = ds.transform\n",
    "    print(ds.meta)\n",
    "    \n",
    "g = gdal.Open (filename)\n",
    "geo_transform = g.GetGeoTransform ()\n",
    "geom = g.GetProjection()\n",
    "\n",
    "pixelSizeX = geo_transform[1]\n",
    "pixelSizeY =-geo_transform[5]\n",
    "\n",
    "proj = osr.SpatialReference(wkt = geom)\n",
    "EPSG = proj.GetAttrValue('AUTHORITY', 1)\n",
    "\n",
    "info = gdal.Info(filename, format = \"json\")\n",
    "geometry = {\"type\": \"Polygon\",\"coordinates\": info['wgs84Extent']['coordinates']}"
   ]
  },
  {
   "cell_type": "code",
   "execution_count": 345,
   "id": "8c34c4ba",
   "metadata": {},
   "outputs": [],
   "source": [
    "import rasterio\n",
    "\n",
    "AWS_link = 'https://landsat-pds.s3.amazonaws.com/L8/139/045/LC81390452014295LGN00/LC81390452014295LGN00_B1.TIF'\n",
    "\n",
    "src = rasterio.open(AWS_link)\n",
    "src.meta\n",
    "\n",
    "bounds = src.bounds\n",
    "left= bounds.left\n",
    "bottom = bounds.bottom\n",
    "right = bounds.right\n",
    "top = bounds.top"
   ]
  },
  {
   "cell_type": "code",
   "execution_count": 346,
   "id": "a725a0bf",
   "metadata": {},
   "outputs": [
    {
     "name": "stdout",
     "output_type": "stream",
     "text": [
      "BoundingBox(left=381885.0, bottom=2279085.0, right=610515.0, top=2512815.0)\n"
     ]
    }
   ],
   "source": [
    "print(bounds)"
   ]
  },
  {
   "cell_type": "code",
   "execution_count": 349,
   "id": "b6131afe",
   "metadata": {},
   "outputs": [],
   "source": [
    "from descarteslabs.catalog import Product, Image, StorageState\n",
    "product_2 = Product(id=\"pivotbio:aws_product\", name = \"aws product\")\n",
    "product_2.save()\n",
    "#status = product_2.delete_related_objects()\n"
   ]
  },
  {
   "cell_type": "code",
   "execution_count": 352,
   "id": "81d4e11e",
   "metadata": {},
   "outputs": [
    {
     "data": {
      "text/plain": [
       "<DocumentState.SAVED: 'saved'>"
      ]
     },
     "execution_count": 352,
     "metadata": {},
     "output_type": "execute_result"
    }
   ],
   "source": [
    "product_2.state"
   ]
  },
  {
   "cell_type": "code",
   "execution_count": 367,
   "id": "263ab4b3",
   "metadata": {},
   "outputs": [],
   "source": [
    "#Create Bands\n",
    "band = SpectralBand(name=\"band1\", product=product_2)\n",
    "band.data_type = DataType.UINT16\n",
    "band.data_range = (np.amin(arr[arr != nodatavalue][0]), np.max(arr[0]))\n",
    "band.display_range = (np.amin(arr[arr != nodatavalue][0]), np.max(arr[0]))\n",
    "band.resolution = Resolution(unit=ResolutionUnit.METERS, value = geo_transform[1])\n",
    "band.band_index = 0\n",
    "band.nodata= None\n",
    "\n",
    "band.save()"
   ]
  },
  {
   "cell_type": "code",
   "execution_count": 370,
   "id": "577d8d58",
   "metadata": {},
   "outputs": [
    {
     "ename": "BadRequestError",
     "evalue": "\n    Validation error: index 0, field size_bytes: Required when storage_state='available': files\n    Validation error: index 0, field hash: Required when storage_state='available': files\n    Validation error: index 0, field href: 'https://landsat-pds.s3.amazonaws.com/L8/139/045/LC81390452014295LGN00/LC81390452014295LGN00_B1.TIF' must start with 'gs://' when storage_state='available': storage_state",
     "output_type": "error",
     "traceback": [
      "\u001b[0;31m---------------------------------------------------------------------------\u001b[0m",
      "\u001b[0;31mBadRequestError\u001b[0m                           Traceback (most recent call last)",
      "\u001b[0;32m<ipython-input-370-62e1607d1ca4>\u001b[0m in \u001b[0;36m<module>\u001b[0;34m\u001b[0m\n\u001b[1;32m     10\u001b[0m \u001b[0mimage\u001b[0m\u001b[0;34m.\u001b[0m\u001b[0my_pixels\u001b[0m \u001b[0;34m=\u001b[0m \u001b[0mint\u001b[0m\u001b[0;34m(\u001b[0m\u001b[0mpixelSizeY\u001b[0m\u001b[0;34m)\u001b[0m\u001b[0;34m\u001b[0m\u001b[0;34m\u001b[0m\u001b[0m\n\u001b[1;32m     11\u001b[0m \u001b[0mimage\u001b[0m\u001b[0;34m.\u001b[0m\u001b[0mstorage_state\u001b[0m \u001b[0;34m=\u001b[0m \u001b[0mStorageState\u001b[0m\u001b[0;34m.\u001b[0m\u001b[0mAVAILABLE\u001b[0m\u001b[0;34m\u001b[0m\u001b[0;34m\u001b[0m\u001b[0m\n\u001b[0;32m---> 12\u001b[0;31m \u001b[0mimage\u001b[0m\u001b[0;34m.\u001b[0m\u001b[0msave\u001b[0m\u001b[0;34m(\u001b[0m\u001b[0;34m)\u001b[0m\u001b[0;34m\u001b[0m\u001b[0;34m\u001b[0m\u001b[0m\n\u001b[0m",
      "\u001b[0;32m~/miniconda3/envs/_environment_name/lib/python3.7/site-packages/descarteslabs/catalog/catalog_base.py\u001b[0m in \u001b[0;36mwrapper\u001b[0;34m(self, *args, **kwargs)\u001b[0m\n\u001b[1;32m     43\u001b[0m             \u001b[0;32mraise\u001b[0m \u001b[0mDeletedObjectError\u001b[0m\u001b[0;34m(\u001b[0m\u001b[0;34m\"This catalog object has been deleted.\"\u001b[0m\u001b[0;34m)\u001b[0m\u001b[0;34m\u001b[0m\u001b[0;34m\u001b[0m\u001b[0m\n\u001b[1;32m     44\u001b[0m         \u001b[0;32mtry\u001b[0m\u001b[0;34m:\u001b[0m\u001b[0;34m\u001b[0m\u001b[0;34m\u001b[0m\u001b[0m\n\u001b[0;32m---> 45\u001b[0;31m             \u001b[0;32mreturn\u001b[0m \u001b[0mf\u001b[0m\u001b[0;34m(\u001b[0m\u001b[0mself\u001b[0m\u001b[0;34m,\u001b[0m \u001b[0;34m*\u001b[0m\u001b[0margs\u001b[0m\u001b[0;34m,\u001b[0m \u001b[0;34m**\u001b[0m\u001b[0mkwargs\u001b[0m\u001b[0;34m)\u001b[0m\u001b[0;34m\u001b[0m\u001b[0;34m\u001b[0m\u001b[0m\n\u001b[0m\u001b[1;32m     46\u001b[0m         \u001b[0;32mexcept\u001b[0m \u001b[0mNotFoundError\u001b[0m \u001b[0;32mas\u001b[0m \u001b[0me\u001b[0m\u001b[0;34m:\u001b[0m\u001b[0;34m\u001b[0m\u001b[0;34m\u001b[0m\u001b[0m\n\u001b[1;32m     47\u001b[0m             \u001b[0mself\u001b[0m\u001b[0;34m.\u001b[0m\u001b[0m_deleted\u001b[0m \u001b[0;34m=\u001b[0m \u001b[0;32mTrue\u001b[0m\u001b[0;34m\u001b[0m\u001b[0;34m\u001b[0m\u001b[0m\n",
      "\u001b[0;32m~/miniconda3/envs/_environment_name/lib/python3.7/site-packages/descarteslabs/catalog/catalog_base.py\u001b[0m in \u001b[0;36msave\u001b[0;34m(self, extra_attributes)\u001b[0m\n\u001b[1;32m    777\u001b[0m \u001b[0;34m\u001b[0m\u001b[0m\n\u001b[1;32m    778\u001b[0m         data, related_objects = self._send_data(\n\u001b[0;32m--> 779\u001b[0;31m             \u001b[0mmethod\u001b[0m\u001b[0;34m=\u001b[0m\u001b[0mmethod\u001b[0m\u001b[0;34m,\u001b[0m \u001b[0mid\u001b[0m\u001b[0;34m=\u001b[0m\u001b[0mself\u001b[0m\u001b[0;34m.\u001b[0m\u001b[0mid\u001b[0m\u001b[0;34m,\u001b[0m \u001b[0mjson\u001b[0m\u001b[0;34m=\u001b[0m\u001b[0mjson\u001b[0m\u001b[0;34m,\u001b[0m \u001b[0mclient\u001b[0m\u001b[0;34m=\u001b[0m\u001b[0mself\u001b[0m\u001b[0;34m.\u001b[0m\u001b[0m_client\u001b[0m\u001b[0;34m\u001b[0m\u001b[0;34m\u001b[0m\u001b[0m\n\u001b[0m\u001b[1;32m    780\u001b[0m         )\n\u001b[1;32m    781\u001b[0m \u001b[0;34m\u001b[0m\u001b[0m\n",
      "\u001b[0;32m~/miniconda3/envs/_environment_name/lib/python3.7/site-packages/descarteslabs/catalog/catalog_base.py\u001b[0m in \u001b[0;36mwrapper\u001b[0;34m(self, *args, **kwargs)\u001b[0m\n\u001b[1;32m     62\u001b[0m                 \u001b[0;34m\"This method is only available for a derived class of 'CatalogObject'\"\u001b[0m\u001b[0;34m\u001b[0m\u001b[0;34m\u001b[0m\u001b[0m\n\u001b[1;32m     63\u001b[0m             )\n\u001b[0;32m---> 64\u001b[0;31m         \u001b[0;32mreturn\u001b[0m \u001b[0mf\u001b[0m\u001b[0;34m(\u001b[0m\u001b[0mself\u001b[0m\u001b[0;34m,\u001b[0m \u001b[0;34m*\u001b[0m\u001b[0margs\u001b[0m\u001b[0;34m,\u001b[0m \u001b[0;34m**\u001b[0m\u001b[0mkwargs\u001b[0m\u001b[0;34m)\u001b[0m\u001b[0;34m\u001b[0m\u001b[0;34m\u001b[0m\u001b[0m\n\u001b[0m\u001b[1;32m     65\u001b[0m \u001b[0;34m\u001b[0m\u001b[0m\n\u001b[1;32m     66\u001b[0m     \u001b[0;32mreturn\u001b[0m \u001b[0mwrapper\u001b[0m\u001b[0;34m\u001b[0m\u001b[0;34m\u001b[0m\u001b[0m\n",
      "\u001b[0;32m~/miniconda3/envs/_environment_name/lib/python3.7/site-packages/descarteslabs/catalog/catalog_base.py\u001b[0m in \u001b[0;36m_send_data\u001b[0;34m(cls, method, id, json, client)\u001b[0m\n\u001b[1;32m    929\u001b[0m             \u001b[0murl\u001b[0m \u001b[0;34m+=\u001b[0m \u001b[0;34m\"?include=\"\u001b[0m \u001b[0;34m+\u001b[0m \u001b[0;34m\",\"\u001b[0m\u001b[0;34m.\u001b[0m\u001b[0mjoin\u001b[0m\u001b[0;34m(\u001b[0m\u001b[0mcls\u001b[0m\u001b[0;34m.\u001b[0m\u001b[0m_default_includes\u001b[0m\u001b[0;34m)\u001b[0m\u001b[0;34m\u001b[0m\u001b[0;34m\u001b[0m\u001b[0m\n\u001b[1;32m    930\u001b[0m \u001b[0;34m\u001b[0m\u001b[0m\n\u001b[0;32m--> 931\u001b[0;31m         \u001b[0mr\u001b[0m \u001b[0;34m=\u001b[0m \u001b[0msession_method\u001b[0m\u001b[0;34m(\u001b[0m\u001b[0murl\u001b[0m\u001b[0;34m,\u001b[0m \u001b[0mjson\u001b[0m\u001b[0;34m=\u001b[0m\u001b[0mjson\u001b[0m\u001b[0;34m)\u001b[0m\u001b[0;34m.\u001b[0m\u001b[0mjson\u001b[0m\u001b[0;34m(\u001b[0m\u001b[0;34m)\u001b[0m\u001b[0;34m\u001b[0m\u001b[0;34m\u001b[0m\u001b[0m\n\u001b[0m\u001b[1;32m    932\u001b[0m         \u001b[0mdata\u001b[0m \u001b[0;34m=\u001b[0m \u001b[0mr\u001b[0m\u001b[0;34m[\u001b[0m\u001b[0;34m\"data\"\u001b[0m\u001b[0;34m]\u001b[0m\u001b[0;34m\u001b[0m\u001b[0;34m\u001b[0m\u001b[0m\n\u001b[1;32m    933\u001b[0m         \u001b[0mrelated_objects\u001b[0m \u001b[0;34m=\u001b[0m \u001b[0mcls\u001b[0m\u001b[0;34m.\u001b[0m\u001b[0m_load_related_objects\u001b[0m\u001b[0;34m(\u001b[0m\u001b[0mr\u001b[0m\u001b[0;34m,\u001b[0m \u001b[0mclient\u001b[0m\u001b[0;34m)\u001b[0m\u001b[0;34m\u001b[0m\u001b[0;34m\u001b[0m\u001b[0m\n",
      "\u001b[0;32m~/miniconda3/envs/_environment_name/lib/python3.7/site-packages/requests/sessions.py\u001b[0m in \u001b[0;36mpost\u001b[0;34m(self, url, data, json, **kwargs)\u001b[0m\n\u001b[1;32m    588\u001b[0m         \"\"\"\n\u001b[1;32m    589\u001b[0m \u001b[0;34m\u001b[0m\u001b[0m\n\u001b[0;32m--> 590\u001b[0;31m         \u001b[0;32mreturn\u001b[0m \u001b[0mself\u001b[0m\u001b[0;34m.\u001b[0m\u001b[0mrequest\u001b[0m\u001b[0;34m(\u001b[0m\u001b[0;34m'POST'\u001b[0m\u001b[0;34m,\u001b[0m \u001b[0murl\u001b[0m\u001b[0;34m,\u001b[0m \u001b[0mdata\u001b[0m\u001b[0;34m=\u001b[0m\u001b[0mdata\u001b[0m\u001b[0;34m,\u001b[0m \u001b[0mjson\u001b[0m\u001b[0;34m=\u001b[0m\u001b[0mjson\u001b[0m\u001b[0;34m,\u001b[0m \u001b[0;34m**\u001b[0m\u001b[0mkwargs\u001b[0m\u001b[0;34m)\u001b[0m\u001b[0;34m\u001b[0m\u001b[0;34m\u001b[0m\u001b[0m\n\u001b[0m\u001b[1;32m    591\u001b[0m \u001b[0;34m\u001b[0m\u001b[0m\n\u001b[1;32m    592\u001b[0m     \u001b[0;32mdef\u001b[0m \u001b[0mput\u001b[0m\u001b[0;34m(\u001b[0m\u001b[0mself\u001b[0m\u001b[0;34m,\u001b[0m \u001b[0murl\u001b[0m\u001b[0;34m,\u001b[0m \u001b[0mdata\u001b[0m\u001b[0;34m=\u001b[0m\u001b[0;32mNone\u001b[0m\u001b[0;34m,\u001b[0m \u001b[0;34m**\u001b[0m\u001b[0mkwargs\u001b[0m\u001b[0;34m)\u001b[0m\u001b[0;34m:\u001b[0m\u001b[0;34m\u001b[0m\u001b[0;34m\u001b[0m\u001b[0m\n",
      "\u001b[0;32m~/miniconda3/envs/_environment_name/lib/python3.7/site-packages/descarteslabs/client/services/service/service.py\u001b[0m in \u001b[0;36mrequest\u001b[0;34m(self, *args, **kwargs)\u001b[0m\n\u001b[1;32m    585\u001b[0m \u001b[0;34m\u001b[0m\u001b[0m\n\u001b[1;32m    586\u001b[0m         \u001b[0;32mtry\u001b[0m\u001b[0;34m:\u001b[0m\u001b[0;34m\u001b[0m\u001b[0;34m\u001b[0m\u001b[0m\n\u001b[0;32m--> 587\u001b[0;31m             \u001b[0mresp\u001b[0m \u001b[0;34m=\u001b[0m \u001b[0msuper\u001b[0m\u001b[0;34m(\u001b[0m\u001b[0mJsonApiSession\u001b[0m\u001b[0;34m,\u001b[0m \u001b[0mself\u001b[0m\u001b[0;34m)\u001b[0m\u001b[0;34m.\u001b[0m\u001b[0mrequest\u001b[0m\u001b[0;34m(\u001b[0m\u001b[0;34m*\u001b[0m\u001b[0margs\u001b[0m\u001b[0;34m,\u001b[0m \u001b[0;34m**\u001b[0m\u001b[0mkwargs\u001b[0m\u001b[0;34m)\u001b[0m\u001b[0;34m\u001b[0m\u001b[0;34m\u001b[0m\u001b[0m\n\u001b[0m\u001b[1;32m    588\u001b[0m         \u001b[0;32mexcept\u001b[0m \u001b[0;34m(\u001b[0m\u001b[0mClientError\u001b[0m\u001b[0;34m,\u001b[0m \u001b[0mServerError\u001b[0m\u001b[0;34m)\u001b[0m \u001b[0;32mas\u001b[0m \u001b[0merror\u001b[0m\u001b[0;34m:\u001b[0m\u001b[0;34m\u001b[0m\u001b[0;34m\u001b[0m\u001b[0m\n\u001b[1;32m    589\u001b[0m             \u001b[0;32mif\u001b[0m \u001b[0mself\u001b[0m\u001b[0;34m.\u001b[0m\u001b[0mrewrite_errors\u001b[0m\u001b[0;34m:\u001b[0m\u001b[0;34m\u001b[0m\u001b[0;34m\u001b[0m\u001b[0m\n",
      "\u001b[0;32m~/miniconda3/envs/_environment_name/lib/python3.7/site-packages/descarteslabs/client/services/service/service.py\u001b[0m in \u001b[0;36mrequest\u001b[0;34m(self, method, url, **kwargs)\u001b[0m\n\u001b[1;32m    197\u001b[0m             \u001b[0;32mreturn\u001b[0m \u001b[0mresp\u001b[0m\u001b[0;34m\u001b[0m\u001b[0;34m\u001b[0m\u001b[0m\n\u001b[1;32m    198\u001b[0m         \u001b[0;32melif\u001b[0m \u001b[0mresp\u001b[0m\u001b[0;34m.\u001b[0m\u001b[0mstatus_code\u001b[0m \u001b[0;34m==\u001b[0m \u001b[0mHttpStatusCode\u001b[0m\u001b[0;34m.\u001b[0m\u001b[0mBadRequest\u001b[0m\u001b[0;34m:\u001b[0m\u001b[0;34m\u001b[0m\u001b[0;34m\u001b[0m\u001b[0m\n\u001b[0;32m--> 199\u001b[0;31m             \u001b[0;32mraise\u001b[0m \u001b[0mBadRequestError\u001b[0m\u001b[0;34m(\u001b[0m\u001b[0mresp\u001b[0m\u001b[0;34m.\u001b[0m\u001b[0mtext\u001b[0m\u001b[0;34m)\u001b[0m\u001b[0;34m\u001b[0m\u001b[0;34m\u001b[0m\u001b[0m\n\u001b[0m\u001b[1;32m    200\u001b[0m         \u001b[0;32melif\u001b[0m \u001b[0mresp\u001b[0m\u001b[0;34m.\u001b[0m\u001b[0mstatus_code\u001b[0m \u001b[0;34m==\u001b[0m \u001b[0mHttpStatusCode\u001b[0m\u001b[0;34m.\u001b[0m\u001b[0mNotFound\u001b[0m\u001b[0;34m:\u001b[0m\u001b[0;34m\u001b[0m\u001b[0;34m\u001b[0m\u001b[0m\n\u001b[1;32m    201\u001b[0m             \u001b[0mtext\u001b[0m \u001b[0;34m=\u001b[0m \u001b[0mresp\u001b[0m\u001b[0;34m.\u001b[0m\u001b[0mtext\u001b[0m\u001b[0;34m\u001b[0m\u001b[0;34m\u001b[0m\u001b[0m\n",
      "\u001b[0;31mBadRequestError\u001b[0m: \n    Validation error: index 0, field size_bytes: Required when storage_state='available': files\n    Validation error: index 0, field hash: Required when storage_state='available': files\n    Validation error: index 0, field href: 'https://landsat-pds.s3.amazonaws.com/L8/139/045/LC81390452014295LGN00/LC81390452014295LGN00_B1.TIF' must start with 'gs://' when storage_state='available': storage_state"
     ]
    }
   ],
   "source": [
    "image = Image(product = product_2, name = \"test_aws_image\") \n",
    "image.acquired = \"2020-08-07\"\n",
    "image.acquired_end = \"2020-08-07\"\n",
    "image.geotrans = geo_transform\n",
    "image.projection = EPSG\n",
    "\n",
    "image.geometry = geometry\n",
    "image.files = [File(href=\"https://landsat-pds.s3.amazonaws.com/L8/139/045/LC81390452014295LGN00/LC81390452014295LGN00_B1.TIF\")]\n",
    "image.x_pixels = int(pixelSizeX)\n",
    "image.y_pixels = int(pixelSizeY) \n",
    "image.hash  = \n",
    "image.storage_state = StorageState.AVAILABLE\n",
    "image.save()"
   ]
  },
  {
   "cell_type": "code",
   "execution_count": null,
   "id": "13692f3f",
   "metadata": {},
   "outputs": [],
   "source": []
  }
 ],
 "metadata": {
  "kernelspec": {
   "display_name": "Python [conda env:_environment_name] *",
   "language": "python",
   "name": "conda-env-_environment_name-py"
  },
  "language_info": {
   "codemirror_mode": {
    "name": "ipython",
    "version": 3
   },
   "file_extension": ".py",
   "mimetype": "text/x-python",
   "name": "python",
   "nbconvert_exporter": "python",
   "pygments_lexer": "ipython3",
   "version": "3.7.7"
  }
 },
 "nbformat": 4,
 "nbformat_minor": 5
}
